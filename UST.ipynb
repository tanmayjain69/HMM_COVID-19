{
  "nbformat": 4,
  "nbformat_minor": 0,
  "metadata": {
    "colab": {
      "name": "UST.ipynb",
      "provenance": [],
      "collapsed_sections": []
    },
    "kernelspec": {
      "name": "python3",
      "display_name": "Python 3"
    }
  },
  "cells": [
    {
      "cell_type": "markdown",
      "metadata": {
        "id": "b5mtcFg8XRfO",
        "colab_type": "text"
      },
      "source": [
        "Importing Libraries - pandas, numpy, seaborn and matplotlib "
      ]
    },
    {
      "cell_type": "code",
      "metadata": {
        "id": "Fo2jh9lmRwhS",
        "colab_type": "code",
        "colab": {
          "base_uri": "https://localhost:8080/",
          "height": 72
        },
        "outputId": "a075adcb-e118-414c-d51b-0a689c4893f7"
      },
      "source": [
        "import pandas as pd\n",
        "import numpy as np\n",
        "import seaborn as sns\n",
        "import matplotlib.pyplot as plt"
      ],
      "execution_count": null,
      "outputs": [
        {
          "output_type": "stream",
          "text": [
            "/usr/local/lib/python3.6/dist-packages/statsmodels/tools/_testing.py:19: FutureWarning: pandas.util.testing is deprecated. Use the functions in the public API at pandas.testing instead.\n",
            "  import pandas.util.testing as tm\n"
          ],
          "name": "stderr"
        }
      ]
    },
    {
      "cell_type": "markdown",
      "metadata": {
        "id": "3XRAQ9GGX2id",
        "colab_type": "text"
      },
      "source": [
        "Importing Dataset"
      ]
    },
    {
      "cell_type": "code",
      "metadata": {
        "id": "1eP0zHDn4siH",
        "colab_type": "code",
        "colab": {
          "base_uri": "https://localhost:8080/",
          "height": 125
        },
        "outputId": "1f3a13ed-85c8-4b52-859c-135baf0b859b"
      },
      "source": [
        "from google.colab import drive\n",
        "drive.mount('/content/drive')"
      ],
      "execution_count": null,
      "outputs": [
        {
          "output_type": "stream",
          "text": [
            "Go to this URL in a browser: https://accounts.google.com/o/oauth2/auth?client_id=947318989803-6bn6qk8qdgf4n4g3pfee6491hc0brc4i.apps.googleusercontent.com&redirect_uri=urn%3aietf%3awg%3aoauth%3a2.0%3aoob&response_type=code&scope=email%20https%3a%2f%2fwww.googleapis.com%2fauth%2fdocs.test%20https%3a%2f%2fwww.googleapis.com%2fauth%2fdrive%20https%3a%2f%2fwww.googleapis.com%2fauth%2fdrive.photos.readonly%20https%3a%2f%2fwww.googleapis.com%2fauth%2fpeopleapi.readonly\n",
            "\n",
            "Enter your authorization code:\n",
            "··········\n",
            "Mounted at /content/drive\n"
          ],
          "name": "stdout"
        }
      ]
    },
    {
      "cell_type": "markdown",
      "metadata": {
        "id": "MjJxGDkcX8Cs",
        "colab_type": "text"
      },
      "source": [
        "Importing time series Dataset - US Confirmed Cases "
      ]
    },
    {
      "cell_type": "code",
      "metadata": {
        "id": "myQIWvhFR-ap",
        "colab_type": "code",
        "colab": {
          "base_uri": "https://localhost:8080/",
          "height": 363
        },
        "outputId": "32fb32fe-3ea7-418e-8d66-9aad3f14869e"
      },
      "source": [
        "corona_dataset_csv = pd.read_csv(\"/content/drive/My Drive/UST/time_series_covid19_confirmed_US.csv\")\n",
        "corona_dataset_csv.head()"
      ],
      "execution_count": null,
      "outputs": [
        {
          "output_type": "execute_result",
          "data": {
            "text/html": [
              "<div>\n",
              "<style scoped>\n",
              "    .dataframe tbody tr th:only-of-type {\n",
              "        vertical-align: middle;\n",
              "    }\n",
              "\n",
              "    .dataframe tbody tr th {\n",
              "        vertical-align: top;\n",
              "    }\n",
              "\n",
              "    .dataframe thead th {\n",
              "        text-align: right;\n",
              "    }\n",
              "</style>\n",
              "<table border=\"1\" class=\"dataframe\">\n",
              "  <thead>\n",
              "    <tr style=\"text-align: right;\">\n",
              "      <th></th>\n",
              "      <th>UID</th>\n",
              "      <th>iso2</th>\n",
              "      <th>iso3</th>\n",
              "      <th>code3</th>\n",
              "      <th>FIPS</th>\n",
              "      <th>Admin2</th>\n",
              "      <th>Province_State</th>\n",
              "      <th>Country_Region</th>\n",
              "      <th>Lat</th>\n",
              "      <th>Long_</th>\n",
              "      <th>Combined_Key</th>\n",
              "      <th>1/22/20</th>\n",
              "      <th>1/23/20</th>\n",
              "      <th>1/24/20</th>\n",
              "      <th>1/25/20</th>\n",
              "      <th>1/26/20</th>\n",
              "      <th>1/27/20</th>\n",
              "      <th>1/28/20</th>\n",
              "      <th>1/29/20</th>\n",
              "      <th>1/30/20</th>\n",
              "      <th>1/31/20</th>\n",
              "      <th>2/1/20</th>\n",
              "      <th>2/2/20</th>\n",
              "      <th>2/3/20</th>\n",
              "      <th>2/4/20</th>\n",
              "      <th>2/5/20</th>\n",
              "      <th>2/6/20</th>\n",
              "      <th>2/7/20</th>\n",
              "      <th>2/8/20</th>\n",
              "      <th>2/9/20</th>\n",
              "      <th>2/10/20</th>\n",
              "      <th>2/11/20</th>\n",
              "      <th>2/12/20</th>\n",
              "      <th>2/13/20</th>\n",
              "      <th>2/14/20</th>\n",
              "      <th>2/15/20</th>\n",
              "      <th>2/16/20</th>\n",
              "      <th>2/17/20</th>\n",
              "      <th>2/18/20</th>\n",
              "      <th>2/19/20</th>\n",
              "      <th>...</th>\n",
              "      <th>6/10/20</th>\n",
              "      <th>6/11/20</th>\n",
              "      <th>6/12/20</th>\n",
              "      <th>6/13/20</th>\n",
              "      <th>6/14/20</th>\n",
              "      <th>6/15/20</th>\n",
              "      <th>6/16/20</th>\n",
              "      <th>6/17/20</th>\n",
              "      <th>6/18/20</th>\n",
              "      <th>6/19/20</th>\n",
              "      <th>6/20/20</th>\n",
              "      <th>6/21/20</th>\n",
              "      <th>6/22/20</th>\n",
              "      <th>6/23/20</th>\n",
              "      <th>6/24/20</th>\n",
              "      <th>6/25/20</th>\n",
              "      <th>6/26/20</th>\n",
              "      <th>6/27/20</th>\n",
              "      <th>6/28/20</th>\n",
              "      <th>6/29/20</th>\n",
              "      <th>6/30/20</th>\n",
              "      <th>7/1/20</th>\n",
              "      <th>7/2/20</th>\n",
              "      <th>7/3/20</th>\n",
              "      <th>7/4/20</th>\n",
              "      <th>7/5/20</th>\n",
              "      <th>7/6/20</th>\n",
              "      <th>7/7/20</th>\n",
              "      <th>7/8/20</th>\n",
              "      <th>7/9/20</th>\n",
              "      <th>7/10/20</th>\n",
              "      <th>7/11/20</th>\n",
              "      <th>7/12/20</th>\n",
              "      <th>7/13/20</th>\n",
              "      <th>7/14/20</th>\n",
              "      <th>7/15/20</th>\n",
              "      <th>7/16/20</th>\n",
              "      <th>7/17/20</th>\n",
              "      <th>7/18/20</th>\n",
              "      <th>7/19/20</th>\n",
              "    </tr>\n",
              "  </thead>\n",
              "  <tbody>\n",
              "    <tr>\n",
              "      <th>0</th>\n",
              "      <td>16</td>\n",
              "      <td>AS</td>\n",
              "      <td>ASM</td>\n",
              "      <td>16</td>\n",
              "      <td>60.0</td>\n",
              "      <td>NaN</td>\n",
              "      <td>American Samoa</td>\n",
              "      <td>US</td>\n",
              "      <td>-14.271000</td>\n",
              "      <td>-170.132000</td>\n",
              "      <td>American Samoa, US</td>\n",
              "      <td>0</td>\n",
              "      <td>0</td>\n",
              "      <td>0</td>\n",
              "      <td>0</td>\n",
              "      <td>0</td>\n",
              "      <td>0</td>\n",
              "      <td>0</td>\n",
              "      <td>0</td>\n",
              "      <td>0</td>\n",
              "      <td>0</td>\n",
              "      <td>0</td>\n",
              "      <td>0</td>\n",
              "      <td>0</td>\n",
              "      <td>0</td>\n",
              "      <td>0</td>\n",
              "      <td>0</td>\n",
              "      <td>0</td>\n",
              "      <td>0</td>\n",
              "      <td>0</td>\n",
              "      <td>0</td>\n",
              "      <td>0</td>\n",
              "      <td>0</td>\n",
              "      <td>0</td>\n",
              "      <td>0</td>\n",
              "      <td>0</td>\n",
              "      <td>0</td>\n",
              "      <td>0</td>\n",
              "      <td>0</td>\n",
              "      <td>0</td>\n",
              "      <td>...</td>\n",
              "      <td>0</td>\n",
              "      <td>0</td>\n",
              "      <td>0</td>\n",
              "      <td>0</td>\n",
              "      <td>0</td>\n",
              "      <td>0</td>\n",
              "      <td>0</td>\n",
              "      <td>0</td>\n",
              "      <td>0</td>\n",
              "      <td>0</td>\n",
              "      <td>0</td>\n",
              "      <td>0</td>\n",
              "      <td>0</td>\n",
              "      <td>0</td>\n",
              "      <td>0</td>\n",
              "      <td>0</td>\n",
              "      <td>0</td>\n",
              "      <td>0</td>\n",
              "      <td>0</td>\n",
              "      <td>0</td>\n",
              "      <td>0</td>\n",
              "      <td>0</td>\n",
              "      <td>0</td>\n",
              "      <td>0</td>\n",
              "      <td>0</td>\n",
              "      <td>0</td>\n",
              "      <td>0</td>\n",
              "      <td>0</td>\n",
              "      <td>0</td>\n",
              "      <td>0</td>\n",
              "      <td>0</td>\n",
              "      <td>0</td>\n",
              "      <td>0</td>\n",
              "      <td>0</td>\n",
              "      <td>0</td>\n",
              "      <td>0</td>\n",
              "      <td>0</td>\n",
              "      <td>0</td>\n",
              "      <td>0</td>\n",
              "      <td>0</td>\n",
              "    </tr>\n",
              "    <tr>\n",
              "      <th>1</th>\n",
              "      <td>316</td>\n",
              "      <td>GU</td>\n",
              "      <td>GUM</td>\n",
              "      <td>316</td>\n",
              "      <td>66.0</td>\n",
              "      <td>NaN</td>\n",
              "      <td>Guam</td>\n",
              "      <td>US</td>\n",
              "      <td>13.444300</td>\n",
              "      <td>144.793700</td>\n",
              "      <td>Guam, US</td>\n",
              "      <td>0</td>\n",
              "      <td>0</td>\n",
              "      <td>0</td>\n",
              "      <td>0</td>\n",
              "      <td>0</td>\n",
              "      <td>0</td>\n",
              "      <td>0</td>\n",
              "      <td>0</td>\n",
              "      <td>0</td>\n",
              "      <td>0</td>\n",
              "      <td>0</td>\n",
              "      <td>0</td>\n",
              "      <td>0</td>\n",
              "      <td>0</td>\n",
              "      <td>0</td>\n",
              "      <td>0</td>\n",
              "      <td>0</td>\n",
              "      <td>0</td>\n",
              "      <td>0</td>\n",
              "      <td>0</td>\n",
              "      <td>0</td>\n",
              "      <td>0</td>\n",
              "      <td>0</td>\n",
              "      <td>0</td>\n",
              "      <td>0</td>\n",
              "      <td>0</td>\n",
              "      <td>0</td>\n",
              "      <td>0</td>\n",
              "      <td>0</td>\n",
              "      <td>...</td>\n",
              "      <td>180</td>\n",
              "      <td>183</td>\n",
              "      <td>183</td>\n",
              "      <td>183</td>\n",
              "      <td>183</td>\n",
              "      <td>185</td>\n",
              "      <td>186</td>\n",
              "      <td>188</td>\n",
              "      <td>192</td>\n",
              "      <td>200</td>\n",
              "      <td>222</td>\n",
              "      <td>222</td>\n",
              "      <td>222</td>\n",
              "      <td>225</td>\n",
              "      <td>226</td>\n",
              "      <td>231</td>\n",
              "      <td>247</td>\n",
              "      <td>247</td>\n",
              "      <td>247</td>\n",
              "      <td>253</td>\n",
              "      <td>257</td>\n",
              "      <td>267</td>\n",
              "      <td>280</td>\n",
              "      <td>280</td>\n",
              "      <td>280</td>\n",
              "      <td>280</td>\n",
              "      <td>301</td>\n",
              "      <td>303</td>\n",
              "      <td>307</td>\n",
              "      <td>309</td>\n",
              "      <td>310</td>\n",
              "      <td>310</td>\n",
              "      <td>310</td>\n",
              "      <td>312</td>\n",
              "      <td>312</td>\n",
              "      <td>313</td>\n",
              "      <td>314</td>\n",
              "      <td>314</td>\n",
              "      <td>314</td>\n",
              "      <td>314</td>\n",
              "    </tr>\n",
              "    <tr>\n",
              "      <th>2</th>\n",
              "      <td>580</td>\n",
              "      <td>MP</td>\n",
              "      <td>MNP</td>\n",
              "      <td>580</td>\n",
              "      <td>69.0</td>\n",
              "      <td>NaN</td>\n",
              "      <td>Northern Mariana Islands</td>\n",
              "      <td>US</td>\n",
              "      <td>15.097900</td>\n",
              "      <td>145.673900</td>\n",
              "      <td>Northern Mariana Islands, US</td>\n",
              "      <td>0</td>\n",
              "      <td>0</td>\n",
              "      <td>0</td>\n",
              "      <td>0</td>\n",
              "      <td>0</td>\n",
              "      <td>0</td>\n",
              "      <td>0</td>\n",
              "      <td>0</td>\n",
              "      <td>0</td>\n",
              "      <td>0</td>\n",
              "      <td>0</td>\n",
              "      <td>0</td>\n",
              "      <td>0</td>\n",
              "      <td>0</td>\n",
              "      <td>0</td>\n",
              "      <td>0</td>\n",
              "      <td>0</td>\n",
              "      <td>0</td>\n",
              "      <td>0</td>\n",
              "      <td>0</td>\n",
              "      <td>0</td>\n",
              "      <td>0</td>\n",
              "      <td>0</td>\n",
              "      <td>0</td>\n",
              "      <td>0</td>\n",
              "      <td>0</td>\n",
              "      <td>0</td>\n",
              "      <td>0</td>\n",
              "      <td>0</td>\n",
              "      <td>...</td>\n",
              "      <td>30</td>\n",
              "      <td>30</td>\n",
              "      <td>30</td>\n",
              "      <td>30</td>\n",
              "      <td>30</td>\n",
              "      <td>30</td>\n",
              "      <td>30</td>\n",
              "      <td>30</td>\n",
              "      <td>30</td>\n",
              "      <td>30</td>\n",
              "      <td>30</td>\n",
              "      <td>30</td>\n",
              "      <td>30</td>\n",
              "      <td>30</td>\n",
              "      <td>30</td>\n",
              "      <td>30</td>\n",
              "      <td>30</td>\n",
              "      <td>30</td>\n",
              "      <td>30</td>\n",
              "      <td>30</td>\n",
              "      <td>30</td>\n",
              "      <td>30</td>\n",
              "      <td>31</td>\n",
              "      <td>31</td>\n",
              "      <td>31</td>\n",
              "      <td>31</td>\n",
              "      <td>31</td>\n",
              "      <td>31</td>\n",
              "      <td>31</td>\n",
              "      <td>31</td>\n",
              "      <td>31</td>\n",
              "      <td>33</td>\n",
              "      <td>33</td>\n",
              "      <td>33</td>\n",
              "      <td>36</td>\n",
              "      <td>36</td>\n",
              "      <td>37</td>\n",
              "      <td>37</td>\n",
              "      <td>37</td>\n",
              "      <td>37</td>\n",
              "    </tr>\n",
              "    <tr>\n",
              "      <th>3</th>\n",
              "      <td>63072001</td>\n",
              "      <td>PR</td>\n",
              "      <td>PRI</td>\n",
              "      <td>630</td>\n",
              "      <td>72001.0</td>\n",
              "      <td>Adjuntas</td>\n",
              "      <td>Puerto Rico</td>\n",
              "      <td>US</td>\n",
              "      <td>18.180117</td>\n",
              "      <td>-66.754367</td>\n",
              "      <td>Adjuntas, Puerto Rico, US</td>\n",
              "      <td>0</td>\n",
              "      <td>0</td>\n",
              "      <td>0</td>\n",
              "      <td>0</td>\n",
              "      <td>0</td>\n",
              "      <td>0</td>\n",
              "      <td>0</td>\n",
              "      <td>0</td>\n",
              "      <td>0</td>\n",
              "      <td>0</td>\n",
              "      <td>0</td>\n",
              "      <td>0</td>\n",
              "      <td>0</td>\n",
              "      <td>0</td>\n",
              "      <td>0</td>\n",
              "      <td>0</td>\n",
              "      <td>0</td>\n",
              "      <td>0</td>\n",
              "      <td>0</td>\n",
              "      <td>0</td>\n",
              "      <td>0</td>\n",
              "      <td>0</td>\n",
              "      <td>0</td>\n",
              "      <td>0</td>\n",
              "      <td>0</td>\n",
              "      <td>0</td>\n",
              "      <td>0</td>\n",
              "      <td>0</td>\n",
              "      <td>0</td>\n",
              "      <td>...</td>\n",
              "      <td>38</td>\n",
              "      <td>38</td>\n",
              "      <td>39</td>\n",
              "      <td>38</td>\n",
              "      <td>38</td>\n",
              "      <td>38</td>\n",
              "      <td>38</td>\n",
              "      <td>38</td>\n",
              "      <td>40</td>\n",
              "      <td>40</td>\n",
              "      <td>43</td>\n",
              "      <td>43</td>\n",
              "      <td>43</td>\n",
              "      <td>43</td>\n",
              "      <td>43</td>\n",
              "      <td>43</td>\n",
              "      <td>43</td>\n",
              "      <td>43</td>\n",
              "      <td>47</td>\n",
              "      <td>48</td>\n",
              "      <td>50</td>\n",
              "      <td>50</td>\n",
              "      <td>50</td>\n",
              "      <td>50</td>\n",
              "      <td>50</td>\n",
              "      <td>52</td>\n",
              "      <td>58</td>\n",
              "      <td>59</td>\n",
              "      <td>59</td>\n",
              "      <td>60</td>\n",
              "      <td>61</td>\n",
              "      <td>63</td>\n",
              "      <td>63</td>\n",
              "      <td>66</td>\n",
              "      <td>66</td>\n",
              "      <td>66</td>\n",
              "      <td>66</td>\n",
              "      <td>67</td>\n",
              "      <td>68</td>\n",
              "      <td>72</td>\n",
              "    </tr>\n",
              "    <tr>\n",
              "      <th>4</th>\n",
              "      <td>63072003</td>\n",
              "      <td>PR</td>\n",
              "      <td>PRI</td>\n",
              "      <td>630</td>\n",
              "      <td>72003.0</td>\n",
              "      <td>Aguada</td>\n",
              "      <td>Puerto Rico</td>\n",
              "      <td>US</td>\n",
              "      <td>18.360255</td>\n",
              "      <td>-67.175131</td>\n",
              "      <td>Aguada, Puerto Rico, US</td>\n",
              "      <td>0</td>\n",
              "      <td>0</td>\n",
              "      <td>0</td>\n",
              "      <td>0</td>\n",
              "      <td>0</td>\n",
              "      <td>0</td>\n",
              "      <td>0</td>\n",
              "      <td>0</td>\n",
              "      <td>0</td>\n",
              "      <td>0</td>\n",
              "      <td>0</td>\n",
              "      <td>0</td>\n",
              "      <td>0</td>\n",
              "      <td>0</td>\n",
              "      <td>0</td>\n",
              "      <td>0</td>\n",
              "      <td>0</td>\n",
              "      <td>0</td>\n",
              "      <td>0</td>\n",
              "      <td>0</td>\n",
              "      <td>0</td>\n",
              "      <td>0</td>\n",
              "      <td>0</td>\n",
              "      <td>0</td>\n",
              "      <td>0</td>\n",
              "      <td>0</td>\n",
              "      <td>0</td>\n",
              "      <td>0</td>\n",
              "      <td>0</td>\n",
              "      <td>...</td>\n",
              "      <td>27</td>\n",
              "      <td>27</td>\n",
              "      <td>27</td>\n",
              "      <td>28</td>\n",
              "      <td>28</td>\n",
              "      <td>28</td>\n",
              "      <td>28</td>\n",
              "      <td>28</td>\n",
              "      <td>28</td>\n",
              "      <td>29</td>\n",
              "      <td>29</td>\n",
              "      <td>29</td>\n",
              "      <td>29</td>\n",
              "      <td>30</td>\n",
              "      <td>30</td>\n",
              "      <td>32</td>\n",
              "      <td>32</td>\n",
              "      <td>33</td>\n",
              "      <td>34</td>\n",
              "      <td>34</td>\n",
              "      <td>34</td>\n",
              "      <td>35</td>\n",
              "      <td>36</td>\n",
              "      <td>36</td>\n",
              "      <td>37</td>\n",
              "      <td>37</td>\n",
              "      <td>48</td>\n",
              "      <td>48</td>\n",
              "      <td>48</td>\n",
              "      <td>50</td>\n",
              "      <td>50</td>\n",
              "      <td>52</td>\n",
              "      <td>54</td>\n",
              "      <td>57</td>\n",
              "      <td>58</td>\n",
              "      <td>60</td>\n",
              "      <td>60</td>\n",
              "      <td>66</td>\n",
              "      <td>67</td>\n",
              "      <td>70</td>\n",
              "    </tr>\n",
              "  </tbody>\n",
              "</table>\n",
              "<p>5 rows × 191 columns</p>\n",
              "</div>"
            ],
            "text/plain": [
              "        UID iso2 iso3  code3  ...  7/16/20 7/17/20 7/18/20 7/19/20\n",
              "0        16   AS  ASM     16  ...        0       0       0       0\n",
              "1       316   GU  GUM    316  ...      314     314     314     314\n",
              "2       580   MP  MNP    580  ...       37      37      37      37\n",
              "3  63072001   PR  PRI    630  ...       66      67      68      72\n",
              "4  63072003   PR  PRI    630  ...       60      66      67      70\n",
              "\n",
              "[5 rows x 191 columns]"
            ]
          },
          "metadata": {
            "tags": []
          },
          "execution_count": 3
        }
      ]
    },
    {
      "cell_type": "markdown",
      "metadata": {
        "id": "zstYmmeJYJpi",
        "colab_type": "text"
      },
      "source": [
        "Removing Useless Coloumns from the dataset "
      ]
    },
    {
      "cell_type": "code",
      "metadata": {
        "id": "3RAY5WCzc2Y8",
        "colab_type": "code",
        "colab": {}
      },
      "source": [
        "df = corona_dataset_csv.drop([\"UID\", \"iso2\", \"iso3\", \"code3\", \"FIPS\", \"Admin2\", \"Lat\", \"Long_\"],axis=1)"
      ],
      "execution_count": null,
      "outputs": []
    },
    {
      "cell_type": "markdown",
      "metadata": {
        "id": "loRCEeSkYQoh",
        "colab_type": "text"
      },
      "source": [
        "Grouping the Dataset with only one coloumn as it consist of (city, state, country)"
      ]
    },
    {
      "cell_type": "code",
      "metadata": {
        "id": "Kpk1yldTdxvN",
        "colab_type": "code",
        "colab": {}
      },
      "source": [
        "corona_dataset_aggregated = df.groupby(\"Combined_Key\").sum()"
      ],
      "execution_count": null,
      "outputs": []
    },
    {
      "cell_type": "markdown",
      "metadata": {
        "id": "y3_PEc1vCBXO",
        "colab_type": "text"
      },
      "source": [
        "Visualizing data related to a particular row by plotting graph b/w cities with x-axis as \"date\" and y-axis as \"COVID Cases\"\n"
      ]
    },
    {
      "cell_type": "code",
      "metadata": {
        "id": "gj2NmR0JB49W",
        "colab_type": "code",
        "colab": {
          "base_uri": "https://localhost:8080/",
          "height": 282
        },
        "outputId": "6324fb8f-0266-42f6-dbb2-fc5bb3f21d3f"
      },
      "source": [
        "corona_dataset_aggregated.loc[\"San Francisco, California, US\"].plot()\n",
        "corona_dataset_aggregated.loc[\"San Diego, California, US\"].plot()\n",
        "plt.legend()"
      ],
      "execution_count": null,
      "outputs": [
        {
          "output_type": "execute_result",
          "data": {
            "text/plain": [
              "<matplotlib.legend.Legend at 0x7f94b8bc3668>"
            ]
          },
          "metadata": {
            "tags": []
          },
          "execution_count": 6
        },
        {
          "output_type": "display_data",
          "data": {
            "image/png": "[encoded data removed]",
            "text/plain": [
              "<Figure size 432x288 with 1 Axes>"
            ]
          },
          "metadata": {
            "tags": [],
            "needs_background": "light"
          }
        }
      ]
    },
    {
      "cell_type": "code",
      "metadata": {
        "id": "NHy6fOTtCIv2",
        "colab_type": "code",
        "colab": {
          "base_uri": "https://localhost:8080/",
          "height": 282
        },
        "outputId": "e748e805-7a8c-494b-ed63-c9a946a280d8"
      },
      "source": [
        "corona_dataset_aggregated.loc[\"San Francisco, California, US\"].plot()"
      ],
      "execution_count": null,
      "outputs": [
        {
          "output_type": "execute_result",
          "data": {
            "text/plain": [
              "<matplotlib.axes._subplots.AxesSubplot at 0x7f94b8a44438>"
            ]
          },
          "metadata": {
            "tags": []
          },
          "execution_count": 7
        },
        {
          "output_type": "display_data",
          "data": {
            "image/png": "[encoded data removed]",
            "text/plain": [
              "<Figure size 432x288 with 1 Axes>"
            ]
          },
          "metadata": {
            "tags": [],
            "needs_background": "light"
          }
        }
      ]
    },
    {
      "cell_type": "markdown",
      "metadata": {
        "id": "TXurSEK9CQER",
        "colab_type": "text"
      },
      "source": [
        "Calculating and Plotting first derivative of Curve"
      ]
    },
    {
      "cell_type": "code",
      "metadata": {
        "id": "GLVWI6QDCMKy",
        "colab_type": "code",
        "colab": {
          "base_uri": "https://localhost:8080/",
          "height": 282
        },
        "outputId": "e924f16a-7938-41a8-ee3c-4d6e9a58c442"
      },
      "source": [
        "corona_dataset_aggregated.loc[\"San Francisco, California, US\"].diff().plot()"
      ],
      "execution_count": null,
      "outputs": [
        {
          "output_type": "execute_result",
          "data": {
            "text/plain": [
              "<matplotlib.axes._subplots.AxesSubplot at 0x7f94b8571a90>"
            ]
          },
          "metadata": {
            "tags": []
          },
          "execution_count": 8
        },
        {
          "output_type": "display_data",
          "data": {
            "image/png": "[encoded data removed]",
            "text/plain": [
              "<Figure size 432x288 with 1 Axes>"
            ]
          },
          "metadata": {
            "tags": [],
            "needs_background": "light"
          }
        }
      ]
    },
    {
      "cell_type": "markdown",
      "metadata": {
        "id": "v698XOYbY67G",
        "colab_type": "text"
      },
      "source": [
        "First derivative of all cities i.e., Max infection rate of all cities"
      ]
    },
    {
      "cell_type": "code",
      "metadata": {
        "id": "eYbGhRO6e1XR",
        "colab_type": "code",
        "colab": {}
      },
      "source": [
        "countries = list(corona_dataset_aggregated.index)\n",
        "max_infection_rates = []\n",
        "for c in countries :\n",
        "  max_infection_rates.append(corona_dataset_aggregated.loc[c].diff().max())\n",
        "corona_dataset_aggregated[\"max_infection_rate\"] = max_infection_rates"
      ],
      "execution_count": null,
      "outputs": []
    },
    {
      "cell_type": "markdown",
      "metadata": {
        "id": "RKZwlEdUZLRD",
        "colab_type": "text"
      },
      "source": [
        "Changing the Data Frame to corona_data"
      ]
    },
    {
      "cell_type": "code",
      "metadata": {
        "id": "64E0-6M4e8V2",
        "colab_type": "code",
        "colab": {}
      },
      "source": [
        "corona_data = pd.DataFrame(corona_dataset_aggregated[\"max_infection_rate\"])"
      ],
      "execution_count": null,
      "outputs": []
    },
    {
      "cell_type": "markdown",
      "metadata": {
        "id": "pmIxsBcwZTSk",
        "colab_type": "text"
      },
      "source": [
        "Maximum infection rate oa all the cities in US"
      ]
    },
    {
      "cell_type": "code",
      "metadata": {
        "id": "veZ1ZzPNe__S",
        "colab_type": "code",
        "colab": {
          "base_uri": "https://localhost:8080/",
          "height": 227
        },
        "outputId": "169cb1ec-504f-463f-a466-440d3d42e92a"
      },
      "source": [
        "corona_data.head()"
      ],
      "execution_count": null,
      "outputs": [
        {
          "output_type": "execute_result",
          "data": {
            "text/html": [
              "<div>\n",
              "<style scoped>\n",
              "    .dataframe tbody tr th:only-of-type {\n",
              "        vertical-align: middle;\n",
              "    }\n",
              "\n",
              "    .dataframe tbody tr th {\n",
              "        vertical-align: top;\n",
              "    }\n",
              "\n",
              "    .dataframe thead th {\n",
              "        text-align: right;\n",
              "    }\n",
              "</style>\n",
              "<table border=\"1\" class=\"dataframe\">\n",
              "  <thead>\n",
              "    <tr style=\"text-align: right;\">\n",
              "      <th></th>\n",
              "      <th>max_infection_rate</th>\n",
              "    </tr>\n",
              "    <tr>\n",
              "      <th>Combined_Key</th>\n",
              "      <th></th>\n",
              "    </tr>\n",
              "  </thead>\n",
              "  <tbody>\n",
              "    <tr>\n",
              "      <th>Abbeville, South Carolina, US</th>\n",
              "      <td>13.0</td>\n",
              "    </tr>\n",
              "    <tr>\n",
              "      <th>Acadia, Louisiana, US</th>\n",
              "      <td>96.0</td>\n",
              "    </tr>\n",
              "    <tr>\n",
              "      <th>Accomack, Virginia, US</th>\n",
              "      <td>55.0</td>\n",
              "    </tr>\n",
              "    <tr>\n",
              "      <th>Ada, Idaho, US</th>\n",
              "      <td>325.0</td>\n",
              "    </tr>\n",
              "    <tr>\n",
              "      <th>Adair, Iowa, US</th>\n",
              "      <td>2.0</td>\n",
              "    </tr>\n",
              "  </tbody>\n",
              "</table>\n",
              "</div>"
            ],
            "text/plain": [
              "                               max_infection_rate\n",
              "Combined_Key                                     \n",
              "Abbeville, South Carolina, US                13.0\n",
              "Acadia, Louisiana, US                        96.0\n",
              "Accomack, Virginia, US                       55.0\n",
              "Ada, Idaho, US                              325.0\n",
              "Adair, Iowa, US                               2.0"
            ]
          },
          "metadata": {
            "tags": []
          },
          "execution_count": 11
        }
      ]
    },
    {
      "cell_type": "markdown",
      "metadata": {
        "id": "O7VZqeczZlhj",
        "colab_type": "text"
      },
      "source": [
        "Importing Another Time Series Dataset - Number of deaths in each city of US"
      ]
    },
    {
      "cell_type": "code",
      "metadata": {
        "id": "Q7kb123GfCIL",
        "colab_type": "code",
        "colab": {
          "base_uri": "https://localhost:8080/",
          "height": 363
        },
        "outputId": "5b866995-bd69-485c-b90a-4820dfb39a73"
      },
      "source": [
        "corona_death_csv = pd.read_csv(\"/content/drive/My Drive/UST/time_series_covid19_deaths_US.csv\")\n",
        "corona_death_csv.head()"
      ],
      "execution_count": null,
      "outputs": [
        {
          "output_type": "execute_result",
          "data": {
            "text/html": [
              "<div>\n",
              "<style scoped>\n",
              "    .dataframe tbody tr th:only-of-type {\n",
              "        vertical-align: middle;\n",
              "    }\n",
              "\n",
              "    .dataframe tbody tr th {\n",
              "        vertical-align: top;\n",
              "    }\n",
              "\n",
              "    .dataframe thead th {\n",
              "        text-align: right;\n",
              "    }\n",
              "</style>\n",
              "<table border=\"1\" class=\"dataframe\">\n",
              "  <thead>\n",
              "    <tr style=\"text-align: right;\">\n",
              "      <th></th>\n",
              "      <th>UID</th>\n",
              "      <th>iso2</th>\n",
              "      <th>iso3</th>\n",
              "      <th>code3</th>\n",
              "      <th>FIPS</th>\n",
              "      <th>Admin2</th>\n",
              "      <th>Province_State</th>\n",
              "      <th>Country_Region</th>\n",
              "      <th>Lat</th>\n",
              "      <th>Long_</th>\n",
              "      <th>Combined_Key</th>\n",
              "      <th>Population</th>\n",
              "      <th>1/22/20</th>\n",
              "      <th>1/23/20</th>\n",
              "      <th>1/24/20</th>\n",
              "      <th>1/25/20</th>\n",
              "      <th>1/26/20</th>\n",
              "      <th>1/27/20</th>\n",
              "      <th>1/28/20</th>\n",
              "      <th>1/29/20</th>\n",
              "      <th>1/30/20</th>\n",
              "      <th>1/31/20</th>\n",
              "      <th>2/1/20</th>\n",
              "      <th>2/2/20</th>\n",
              "      <th>2/3/20</th>\n",
              "      <th>2/4/20</th>\n",
              "      <th>2/5/20</th>\n",
              "      <th>2/6/20</th>\n",
              "      <th>2/7/20</th>\n",
              "      <th>2/8/20</th>\n",
              "      <th>2/9/20</th>\n",
              "      <th>2/10/20</th>\n",
              "      <th>2/11/20</th>\n",
              "      <th>2/12/20</th>\n",
              "      <th>2/13/20</th>\n",
              "      <th>2/14/20</th>\n",
              "      <th>2/15/20</th>\n",
              "      <th>2/16/20</th>\n",
              "      <th>2/17/20</th>\n",
              "      <th>2/18/20</th>\n",
              "      <th>...</th>\n",
              "      <th>6/10/20</th>\n",
              "      <th>6/11/20</th>\n",
              "      <th>6/12/20</th>\n",
              "      <th>6/13/20</th>\n",
              "      <th>6/14/20</th>\n",
              "      <th>6/15/20</th>\n",
              "      <th>6/16/20</th>\n",
              "      <th>6/17/20</th>\n",
              "      <th>6/18/20</th>\n",
              "      <th>6/19/20</th>\n",
              "      <th>6/20/20</th>\n",
              "      <th>6/21/20</th>\n",
              "      <th>6/22/20</th>\n",
              "      <th>6/23/20</th>\n",
              "      <th>6/24/20</th>\n",
              "      <th>6/25/20</th>\n",
              "      <th>6/26/20</th>\n",
              "      <th>6/27/20</th>\n",
              "      <th>6/28/20</th>\n",
              "      <th>6/29/20</th>\n",
              "      <th>6/30/20</th>\n",
              "      <th>7/1/20</th>\n",
              "      <th>7/2/20</th>\n",
              "      <th>7/3/20</th>\n",
              "      <th>7/4/20</th>\n",
              "      <th>7/5/20</th>\n",
              "      <th>7/6/20</th>\n",
              "      <th>7/7/20</th>\n",
              "      <th>7/8/20</th>\n",
              "      <th>7/9/20</th>\n",
              "      <th>7/10/20</th>\n",
              "      <th>7/11/20</th>\n",
              "      <th>7/12/20</th>\n",
              "      <th>7/13/20</th>\n",
              "      <th>7/14/20</th>\n",
              "      <th>7/15/20</th>\n",
              "      <th>7/16/20</th>\n",
              "      <th>7/17/20</th>\n",
              "      <th>7/18/20</th>\n",
              "      <th>7/19/20</th>\n",
              "    </tr>\n",
              "  </thead>\n",
              "  <tbody>\n",
              "    <tr>\n",
              "      <th>0</th>\n",
              "      <td>16</td>\n",
              "      <td>AS</td>\n",
              "      <td>ASM</td>\n",
              "      <td>16</td>\n",
              "      <td>60.0</td>\n",
              "      <td>NaN</td>\n",
              "      <td>American Samoa</td>\n",
              "      <td>US</td>\n",
              "      <td>-14.271000</td>\n",
              "      <td>-170.132000</td>\n",
              "      <td>American Samoa, US</td>\n",
              "      <td>55641</td>\n",
              "      <td>0</td>\n",
              "      <td>0</td>\n",
              "      <td>0</td>\n",
              "      <td>0</td>\n",
              "      <td>0</td>\n",
              "      <td>0</td>\n",
              "      <td>0</td>\n",
              "      <td>0</td>\n",
              "      <td>0</td>\n",
              "      <td>0</td>\n",
              "      <td>0</td>\n",
              "      <td>0</td>\n",
              "      <td>0</td>\n",
              "      <td>0</td>\n",
              "      <td>0</td>\n",
              "      <td>0</td>\n",
              "      <td>0</td>\n",
              "      <td>0</td>\n",
              "      <td>0</td>\n",
              "      <td>0</td>\n",
              "      <td>0</td>\n",
              "      <td>0</td>\n",
              "      <td>0</td>\n",
              "      <td>0</td>\n",
              "      <td>0</td>\n",
              "      <td>0</td>\n",
              "      <td>0</td>\n",
              "      <td>0</td>\n",
              "      <td>...</td>\n",
              "      <td>0</td>\n",
              "      <td>0</td>\n",
              "      <td>0</td>\n",
              "      <td>0</td>\n",
              "      <td>0</td>\n",
              "      <td>0</td>\n",
              "      <td>0</td>\n",
              "      <td>0</td>\n",
              "      <td>0</td>\n",
              "      <td>0</td>\n",
              "      <td>0</td>\n",
              "      <td>0</td>\n",
              "      <td>0</td>\n",
              "      <td>0</td>\n",
              "      <td>0</td>\n",
              "      <td>0</td>\n",
              "      <td>0</td>\n",
              "      <td>0</td>\n",
              "      <td>0</td>\n",
              "      <td>0</td>\n",
              "      <td>0</td>\n",
              "      <td>0</td>\n",
              "      <td>0</td>\n",
              "      <td>0</td>\n",
              "      <td>0</td>\n",
              "      <td>0</td>\n",
              "      <td>0</td>\n",
              "      <td>0</td>\n",
              "      <td>0</td>\n",
              "      <td>0</td>\n",
              "      <td>0</td>\n",
              "      <td>0</td>\n",
              "      <td>0</td>\n",
              "      <td>0</td>\n",
              "      <td>0</td>\n",
              "      <td>0</td>\n",
              "      <td>0</td>\n",
              "      <td>0</td>\n",
              "      <td>0</td>\n",
              "      <td>0</td>\n",
              "    </tr>\n",
              "    <tr>\n",
              "      <th>1</th>\n",
              "      <td>316</td>\n",
              "      <td>GU</td>\n",
              "      <td>GUM</td>\n",
              "      <td>316</td>\n",
              "      <td>66.0</td>\n",
              "      <td>NaN</td>\n",
              "      <td>Guam</td>\n",
              "      <td>US</td>\n",
              "      <td>13.444300</td>\n",
              "      <td>144.793700</td>\n",
              "      <td>Guam, US</td>\n",
              "      <td>164229</td>\n",
              "      <td>0</td>\n",
              "      <td>0</td>\n",
              "      <td>0</td>\n",
              "      <td>0</td>\n",
              "      <td>0</td>\n",
              "      <td>0</td>\n",
              "      <td>0</td>\n",
              "      <td>0</td>\n",
              "      <td>0</td>\n",
              "      <td>0</td>\n",
              "      <td>0</td>\n",
              "      <td>0</td>\n",
              "      <td>0</td>\n",
              "      <td>0</td>\n",
              "      <td>0</td>\n",
              "      <td>0</td>\n",
              "      <td>0</td>\n",
              "      <td>0</td>\n",
              "      <td>0</td>\n",
              "      <td>0</td>\n",
              "      <td>0</td>\n",
              "      <td>0</td>\n",
              "      <td>0</td>\n",
              "      <td>0</td>\n",
              "      <td>0</td>\n",
              "      <td>0</td>\n",
              "      <td>0</td>\n",
              "      <td>0</td>\n",
              "      <td>...</td>\n",
              "      <td>5</td>\n",
              "      <td>5</td>\n",
              "      <td>5</td>\n",
              "      <td>5</td>\n",
              "      <td>5</td>\n",
              "      <td>5</td>\n",
              "      <td>5</td>\n",
              "      <td>5</td>\n",
              "      <td>5</td>\n",
              "      <td>5</td>\n",
              "      <td>5</td>\n",
              "      <td>5</td>\n",
              "      <td>5</td>\n",
              "      <td>5</td>\n",
              "      <td>5</td>\n",
              "      <td>5</td>\n",
              "      <td>5</td>\n",
              "      <td>5</td>\n",
              "      <td>5</td>\n",
              "      <td>5</td>\n",
              "      <td>5</td>\n",
              "      <td>5</td>\n",
              "      <td>5</td>\n",
              "      <td>5</td>\n",
              "      <td>5</td>\n",
              "      <td>5</td>\n",
              "      <td>5</td>\n",
              "      <td>5</td>\n",
              "      <td>5</td>\n",
              "      <td>5</td>\n",
              "      <td>5</td>\n",
              "      <td>5</td>\n",
              "      <td>5</td>\n",
              "      <td>5</td>\n",
              "      <td>5</td>\n",
              "      <td>5</td>\n",
              "      <td>5</td>\n",
              "      <td>5</td>\n",
              "      <td>5</td>\n",
              "      <td>5</td>\n",
              "    </tr>\n",
              "    <tr>\n",
              "      <th>2</th>\n",
              "      <td>580</td>\n",
              "      <td>MP</td>\n",
              "      <td>MNP</td>\n",
              "      <td>580</td>\n",
              "      <td>69.0</td>\n",
              "      <td>NaN</td>\n",
              "      <td>Northern Mariana Islands</td>\n",
              "      <td>US</td>\n",
              "      <td>15.097900</td>\n",
              "      <td>145.673900</td>\n",
              "      <td>Northern Mariana Islands, US</td>\n",
              "      <td>55144</td>\n",
              "      <td>0</td>\n",
              "      <td>0</td>\n",
              "      <td>0</td>\n",
              "      <td>0</td>\n",
              "      <td>0</td>\n",
              "      <td>0</td>\n",
              "      <td>0</td>\n",
              "      <td>0</td>\n",
              "      <td>0</td>\n",
              "      <td>0</td>\n",
              "      <td>0</td>\n",
              "      <td>0</td>\n",
              "      <td>0</td>\n",
              "      <td>0</td>\n",
              "      <td>0</td>\n",
              "      <td>0</td>\n",
              "      <td>0</td>\n",
              "      <td>0</td>\n",
              "      <td>0</td>\n",
              "      <td>0</td>\n",
              "      <td>0</td>\n",
              "      <td>0</td>\n",
              "      <td>0</td>\n",
              "      <td>0</td>\n",
              "      <td>0</td>\n",
              "      <td>0</td>\n",
              "      <td>0</td>\n",
              "      <td>0</td>\n",
              "      <td>...</td>\n",
              "      <td>2</td>\n",
              "      <td>2</td>\n",
              "      <td>2</td>\n",
              "      <td>2</td>\n",
              "      <td>2</td>\n",
              "      <td>2</td>\n",
              "      <td>2</td>\n",
              "      <td>2</td>\n",
              "      <td>2</td>\n",
              "      <td>2</td>\n",
              "      <td>2</td>\n",
              "      <td>2</td>\n",
              "      <td>2</td>\n",
              "      <td>2</td>\n",
              "      <td>2</td>\n",
              "      <td>2</td>\n",
              "      <td>2</td>\n",
              "      <td>2</td>\n",
              "      <td>2</td>\n",
              "      <td>2</td>\n",
              "      <td>2</td>\n",
              "      <td>2</td>\n",
              "      <td>2</td>\n",
              "      <td>2</td>\n",
              "      <td>2</td>\n",
              "      <td>2</td>\n",
              "      <td>2</td>\n",
              "      <td>2</td>\n",
              "      <td>2</td>\n",
              "      <td>2</td>\n",
              "      <td>2</td>\n",
              "      <td>2</td>\n",
              "      <td>2</td>\n",
              "      <td>2</td>\n",
              "      <td>2</td>\n",
              "      <td>2</td>\n",
              "      <td>2</td>\n",
              "      <td>2</td>\n",
              "      <td>2</td>\n",
              "      <td>2</td>\n",
              "    </tr>\n",
              "    <tr>\n",
              "      <th>3</th>\n",
              "      <td>63072001</td>\n",
              "      <td>PR</td>\n",
              "      <td>PRI</td>\n",
              "      <td>630</td>\n",
              "      <td>72001.0</td>\n",
              "      <td>Adjuntas</td>\n",
              "      <td>Puerto Rico</td>\n",
              "      <td>US</td>\n",
              "      <td>18.180117</td>\n",
              "      <td>-66.754367</td>\n",
              "      <td>Adjuntas, Puerto Rico, US</td>\n",
              "      <td>19483</td>\n",
              "      <td>0</td>\n",
              "      <td>0</td>\n",
              "      <td>0</td>\n",
              "      <td>0</td>\n",
              "      <td>0</td>\n",
              "      <td>0</td>\n",
              "      <td>0</td>\n",
              "      <td>0</td>\n",
              "      <td>0</td>\n",
              "      <td>0</td>\n",
              "      <td>0</td>\n",
              "      <td>0</td>\n",
              "      <td>0</td>\n",
              "      <td>0</td>\n",
              "      <td>0</td>\n",
              "      <td>0</td>\n",
              "      <td>0</td>\n",
              "      <td>0</td>\n",
              "      <td>0</td>\n",
              "      <td>0</td>\n",
              "      <td>0</td>\n",
              "      <td>0</td>\n",
              "      <td>0</td>\n",
              "      <td>0</td>\n",
              "      <td>0</td>\n",
              "      <td>0</td>\n",
              "      <td>0</td>\n",
              "      <td>0</td>\n",
              "      <td>...</td>\n",
              "      <td>0</td>\n",
              "      <td>0</td>\n",
              "      <td>0</td>\n",
              "      <td>0</td>\n",
              "      <td>0</td>\n",
              "      <td>0</td>\n",
              "      <td>0</td>\n",
              "      <td>0</td>\n",
              "      <td>0</td>\n",
              "      <td>0</td>\n",
              "      <td>0</td>\n",
              "      <td>0</td>\n",
              "      <td>0</td>\n",
              "      <td>0</td>\n",
              "      <td>0</td>\n",
              "      <td>0</td>\n",
              "      <td>0</td>\n",
              "      <td>0</td>\n",
              "      <td>0</td>\n",
              "      <td>0</td>\n",
              "      <td>0</td>\n",
              "      <td>0</td>\n",
              "      <td>0</td>\n",
              "      <td>0</td>\n",
              "      <td>0</td>\n",
              "      <td>0</td>\n",
              "      <td>0</td>\n",
              "      <td>0</td>\n",
              "      <td>0</td>\n",
              "      <td>0</td>\n",
              "      <td>0</td>\n",
              "      <td>0</td>\n",
              "      <td>0</td>\n",
              "      <td>0</td>\n",
              "      <td>0</td>\n",
              "      <td>0</td>\n",
              "      <td>0</td>\n",
              "      <td>0</td>\n",
              "      <td>0</td>\n",
              "      <td>0</td>\n",
              "    </tr>\n",
              "    <tr>\n",
              "      <th>4</th>\n",
              "      <td>63072003</td>\n",
              "      <td>PR</td>\n",
              "      <td>PRI</td>\n",
              "      <td>630</td>\n",
              "      <td>72003.0</td>\n",
              "      <td>Aguada</td>\n",
              "      <td>Puerto Rico</td>\n",
              "      <td>US</td>\n",
              "      <td>18.360255</td>\n",
              "      <td>-67.175131</td>\n",
              "      <td>Aguada, Puerto Rico, US</td>\n",
              "      <td>41959</td>\n",
              "      <td>0</td>\n",
              "      <td>0</td>\n",
              "      <td>0</td>\n",
              "      <td>0</td>\n",
              "      <td>0</td>\n",
              "      <td>0</td>\n",
              "      <td>0</td>\n",
              "      <td>0</td>\n",
              "      <td>0</td>\n",
              "      <td>0</td>\n",
              "      <td>0</td>\n",
              "      <td>0</td>\n",
              "      <td>0</td>\n",
              "      <td>0</td>\n",
              "      <td>0</td>\n",
              "      <td>0</td>\n",
              "      <td>0</td>\n",
              "      <td>0</td>\n",
              "      <td>0</td>\n",
              "      <td>0</td>\n",
              "      <td>0</td>\n",
              "      <td>0</td>\n",
              "      <td>0</td>\n",
              "      <td>0</td>\n",
              "      <td>0</td>\n",
              "      <td>0</td>\n",
              "      <td>0</td>\n",
              "      <td>0</td>\n",
              "      <td>...</td>\n",
              "      <td>0</td>\n",
              "      <td>0</td>\n",
              "      <td>0</td>\n",
              "      <td>0</td>\n",
              "      <td>0</td>\n",
              "      <td>0</td>\n",
              "      <td>0</td>\n",
              "      <td>0</td>\n",
              "      <td>0</td>\n",
              "      <td>0</td>\n",
              "      <td>0</td>\n",
              "      <td>0</td>\n",
              "      <td>0</td>\n",
              "      <td>0</td>\n",
              "      <td>0</td>\n",
              "      <td>0</td>\n",
              "      <td>0</td>\n",
              "      <td>0</td>\n",
              "      <td>0</td>\n",
              "      <td>0</td>\n",
              "      <td>0</td>\n",
              "      <td>0</td>\n",
              "      <td>0</td>\n",
              "      <td>0</td>\n",
              "      <td>0</td>\n",
              "      <td>0</td>\n",
              "      <td>0</td>\n",
              "      <td>0</td>\n",
              "      <td>0</td>\n",
              "      <td>0</td>\n",
              "      <td>0</td>\n",
              "      <td>0</td>\n",
              "      <td>0</td>\n",
              "      <td>0</td>\n",
              "      <td>0</td>\n",
              "      <td>0</td>\n",
              "      <td>0</td>\n",
              "      <td>0</td>\n",
              "      <td>0</td>\n",
              "      <td>0</td>\n",
              "    </tr>\n",
              "  </tbody>\n",
              "</table>\n",
              "<p>5 rows × 192 columns</p>\n",
              "</div>"
            ],
            "text/plain": [
              "        UID iso2 iso3  code3  ...  7/16/20 7/17/20 7/18/20 7/19/20\n",
              "0        16   AS  ASM     16  ...        0       0       0       0\n",
              "1       316   GU  GUM    316  ...        5       5       5       5\n",
              "2       580   MP  MNP    580  ...        2       2       2       2\n",
              "3  63072001   PR  PRI    630  ...        0       0       0       0\n",
              "4  63072003   PR  PRI    630  ...        0       0       0       0\n",
              "\n",
              "[5 rows x 192 columns]"
            ]
          },
          "metadata": {
            "tags": []
          },
          "execution_count": 12
        }
      ]
    },
    {
      "cell_type": "markdown",
      "metadata": {
        "id": "8J2_PQihZvs1",
        "colab_type": "text"
      },
      "source": [
        "Removing Uselesss Coloumns"
      ]
    },
    {
      "cell_type": "code",
      "metadata": {
        "id": "tsABJOfpfLSq",
        "colab_type": "code",
        "colab": {}
      },
      "source": [
        "df1 = corona_death_csv.drop([\"UID\", \"iso2\", \"iso3\", \"code3\", \"FIPS\", \"Admin2\", \"Lat\", \"Long_\"],axis=1)"
      ],
      "execution_count": null,
      "outputs": []
    },
    {
      "cell_type": "markdown",
      "metadata": {
        "id": "KY7BRIw4Z1Kn",
        "colab_type": "text"
      },
      "source": [
        "Grouping the Dataset with only one coloumn as it consist of (city, state, country)"
      ]
    },
    {
      "cell_type": "code",
      "metadata": {
        "id": "1v7f_ciZfOi_",
        "colab_type": "code",
        "colab": {}
      },
      "source": [
        "corona_death_aggregated = df1.groupby(\"Combined_Key\").sum()"
      ],
      "execution_count": null,
      "outputs": []
    },
    {
      "cell_type": "markdown",
      "metadata": {
        "id": "EWQELL1EZ-fE",
        "colab_type": "text"
      },
      "source": [
        "Calculatinf First Derivative for deaths i.e., Maximum Deaths in each city of US"
      ]
    },
    {
      "cell_type": "code",
      "metadata": {
        "id": "o0xmlcOcfQoa",
        "colab_type": "code",
        "colab": {}
      },
      "source": [
        "countries = list(corona_death_aggregated.index)\n",
        "max_death_rates = []\n",
        "for c in countries :\n",
        "  max_death_rates.append(corona_death_aggregated.loc[c].diff().max())\n",
        "corona_death_aggregated[\"max_death_rate\"] = max_death_rates"
      ],
      "execution_count": null,
      "outputs": []
    },
    {
      "cell_type": "code",
      "metadata": {
        "id": "hxIk9i8jgFOc",
        "colab_type": "code",
        "colab": {}
      },
      "source": [
        "corona_death = pd.DataFrame(corona_death_aggregated[\"max_death_rate\"])"
      ],
      "execution_count": null,
      "outputs": []
    },
    {
      "cell_type": "markdown",
      "metadata": {
        "id": "-OW0eqqCaKby",
        "colab_type": "text"
      },
      "source": [
        "Maximum Deaths of each city in US"
      ]
    },
    {
      "cell_type": "code",
      "metadata": {
        "id": "4VYbgNj0gJgb",
        "colab_type": "code",
        "colab": {
          "base_uri": "https://localhost:8080/",
          "height": 227
        },
        "outputId": "a34463a5-b64c-4abe-c109-8659fce04e2f"
      },
      "source": [
        "corona_death.head()"
      ],
      "execution_count": null,
      "outputs": [
        {
          "output_type": "execute_result",
          "data": {
            "text/html": [
              "<div>\n",
              "<style scoped>\n",
              "    .dataframe tbody tr th:only-of-type {\n",
              "        vertical-align: middle;\n",
              "    }\n",
              "\n",
              "    .dataframe tbody tr th {\n",
              "        vertical-align: top;\n",
              "    }\n",
              "\n",
              "    .dataframe thead th {\n",
              "        text-align: right;\n",
              "    }\n",
              "</style>\n",
              "<table border=\"1\" class=\"dataframe\">\n",
              "  <thead>\n",
              "    <tr style=\"text-align: right;\">\n",
              "      <th></th>\n",
              "      <th>max_death_rate</th>\n",
              "    </tr>\n",
              "    <tr>\n",
              "      <th>Combined_Key</th>\n",
              "      <th></th>\n",
              "    </tr>\n",
              "  </thead>\n",
              "  <tbody>\n",
              "    <tr>\n",
              "      <th>Abbeville, South Carolina, US</th>\n",
              "      <td>1.0</td>\n",
              "    </tr>\n",
              "    <tr>\n",
              "      <th>Acadia, Louisiana, US</th>\n",
              "      <td>4.0</td>\n",
              "    </tr>\n",
              "    <tr>\n",
              "      <th>Accomack, Virginia, US</th>\n",
              "      <td>2.0</td>\n",
              "    </tr>\n",
              "    <tr>\n",
              "      <th>Ada, Idaho, US</th>\n",
              "      <td>3.0</td>\n",
              "    </tr>\n",
              "    <tr>\n",
              "      <th>Adair, Iowa, US</th>\n",
              "      <td>0.0</td>\n",
              "    </tr>\n",
              "  </tbody>\n",
              "</table>\n",
              "</div>"
            ],
            "text/plain": [
              "                               max_death_rate\n",
              "Combined_Key                                 \n",
              "Abbeville, South Carolina, US             1.0\n",
              "Acadia, Louisiana, US                     4.0\n",
              "Accomack, Virginia, US                    2.0\n",
              "Ada, Idaho, US                            3.0\n",
              "Adair, Iowa, US                           0.0"
            ]
          },
          "metadata": {
            "tags": []
          },
          "execution_count": 17
        }
      ]
    },
    {
      "cell_type": "markdown",
      "metadata": {
        "id": "UIqWVYNwbEQe",
        "colab_type": "text"
      },
      "source": [
        "Joining max infection rate and max death rate column"
      ]
    },
    {
      "cell_type": "code",
      "metadata": {
        "id": "JF5Nb_DEgL70",
        "colab_type": "code",
        "colab": {
          "base_uri": "https://localhost:8080/",
          "height": 227
        },
        "outputId": "774aef77-74ee-4d76-8c29-1ef3f2d51cc1"
      },
      "source": [
        "cases = corona_data.join(corona_death,how=\"inner\")\n",
        "cases.head()"
      ],
      "execution_count": null,
      "outputs": [
        {
          "output_type": "execute_result",
          "data": {
            "text/html": [
              "<div>\n",
              "<style scoped>\n",
              "    .dataframe tbody tr th:only-of-type {\n",
              "        vertical-align: middle;\n",
              "    }\n",
              "\n",
              "    .dataframe tbody tr th {\n",
              "        vertical-align: top;\n",
              "    }\n",
              "\n",
              "    .dataframe thead th {\n",
              "        text-align: right;\n",
              "    }\n",
              "</style>\n",
              "<table border=\"1\" class=\"dataframe\">\n",
              "  <thead>\n",
              "    <tr style=\"text-align: right;\">\n",
              "      <th></th>\n",
              "      <th>max_infection_rate</th>\n",
              "      <th>max_death_rate</th>\n",
              "    </tr>\n",
              "    <tr>\n",
              "      <th>Combined_Key</th>\n",
              "      <th></th>\n",
              "      <th></th>\n",
              "    </tr>\n",
              "  </thead>\n",
              "  <tbody>\n",
              "    <tr>\n",
              "      <th>Abbeville, South Carolina, US</th>\n",
              "      <td>13.0</td>\n",
              "      <td>1.0</td>\n",
              "    </tr>\n",
              "    <tr>\n",
              "      <th>Acadia, Louisiana, US</th>\n",
              "      <td>96.0</td>\n",
              "      <td>4.0</td>\n",
              "    </tr>\n",
              "    <tr>\n",
              "      <th>Accomack, Virginia, US</th>\n",
              "      <td>55.0</td>\n",
              "      <td>2.0</td>\n",
              "    </tr>\n",
              "    <tr>\n",
              "      <th>Ada, Idaho, US</th>\n",
              "      <td>325.0</td>\n",
              "      <td>3.0</td>\n",
              "    </tr>\n",
              "    <tr>\n",
              "      <th>Adair, Iowa, US</th>\n",
              "      <td>2.0</td>\n",
              "      <td>0.0</td>\n",
              "    </tr>\n",
              "  </tbody>\n",
              "</table>\n",
              "</div>"
            ],
            "text/plain": [
              "                               max_infection_rate  max_death_rate\n",
              "Combined_Key                                                     \n",
              "Abbeville, South Carolina, US                13.0             1.0\n",
              "Acadia, Louisiana, US                        96.0             4.0\n",
              "Accomack, Virginia, US                       55.0             2.0\n",
              "Ada, Idaho, US                              325.0             3.0\n",
              "Adair, Iowa, US                               2.0             0.0"
            ]
          },
          "metadata": {
            "tags": []
          },
          "execution_count": 18
        }
      ]
    },
    {
      "cell_type": "markdown",
      "metadata": {
        "id": "ulIs0zNFCs4C",
        "colab_type": "text"
      },
      "source": [
        "Correlation Matrix b/w max infection rate and max death rate"
      ]
    },
    {
      "cell_type": "code",
      "metadata": {
        "id": "bD2Ur7HMgPie",
        "colab_type": "code",
        "colab": {
          "base_uri": "https://localhost:8080/",
          "height": 107
        },
        "outputId": "316fb4f5-9c90-47dc-8c6b-478b670462f4"
      },
      "source": [
        "cases.corr()"
      ],
      "execution_count": null,
      "outputs": [
        {
          "output_type": "execute_result",
          "data": {
            "text/html": [
              "<div>\n",
              "<style scoped>\n",
              "    .dataframe tbody tr th:only-of-type {\n",
              "        vertical-align: middle;\n",
              "    }\n",
              "\n",
              "    .dataframe tbody tr th {\n",
              "        vertical-align: top;\n",
              "    }\n",
              "\n",
              "    .dataframe thead th {\n",
              "        text-align: right;\n",
              "    }\n",
              "</style>\n",
              "<table border=\"1\" class=\"dataframe\">\n",
              "  <thead>\n",
              "    <tr style=\"text-align: right;\">\n",
              "      <th></th>\n",
              "      <th>max_infection_rate</th>\n",
              "      <th>max_death_rate</th>\n",
              "    </tr>\n",
              "  </thead>\n",
              "  <tbody>\n",
              "    <tr>\n",
              "      <th>max_infection_rate</th>\n",
              "      <td>1.000000</td>\n",
              "      <td>0.580936</td>\n",
              "    </tr>\n",
              "    <tr>\n",
              "      <th>max_death_rate</th>\n",
              "      <td>0.580936</td>\n",
              "      <td>1.000000</td>\n",
              "    </tr>\n",
              "  </tbody>\n",
              "</table>\n",
              "</div>"
            ],
            "text/plain": [
              "                    max_infection_rate  max_death_rate\n",
              "max_infection_rate            1.000000        0.580936\n",
              "max_death_rate                0.580936        1.000000"
            ]
          },
          "metadata": {
            "tags": []
          },
          "execution_count": 19
        }
      ]
    },
    {
      "cell_type": "markdown",
      "metadata": {
        "id": "4Dy7FJrJC1ai",
        "colab_type": "text"
      },
      "source": [
        "Plotting Scatterplot graph b/w Max Infection rate Vs Max Death Rate to see relation b/w them"
      ]
    },
    {
      "cell_type": "code",
      "metadata": {
        "id": "Qpm0E0R9gUqa",
        "colab_type": "code",
        "colab": {
          "base_uri": "https://localhost:8080/",
          "height": 297
        },
        "outputId": "d925d0d6-cdb6-405f-b533-f9945ab597d1"
      },
      "source": [
        "x = cases[\"max_infection_rate\"]\n",
        "y = cases[\"max_death_rate\"]\n",
        "sns.scatterplot(x,y)"
      ],
      "execution_count": null,
      "outputs": [
        {
          "output_type": "execute_result",
          "data": {
            "text/plain": [
              "<matplotlib.axes._subplots.AxesSubplot at 0x7f94b84de5c0>"
            ]
          },
          "metadata": {
            "tags": []
          },
          "execution_count": 20
        },
        {
          "output_type": "display_data",
          "data": {
            "image/png": "[encoded data removed]",
            "text/plain": [
              "<Figure size 432x288 with 1 Axes>"
            ]
          },
          "metadata": {
            "tags": [],
            "needs_background": "light"
          }
        }
      ]
    },
    {
      "cell_type": "markdown",
      "metadata": {
        "id": "GY1brnFDarXN",
        "colab_type": "text"
      },
      "source": [
        "Plotting Regplot Graph b/w max infection rate and max death rate"
      ]
    },
    {
      "cell_type": "code",
      "metadata": {
        "id": "g61LfkUYC4uD",
        "colab_type": "code",
        "colab": {
          "base_uri": "https://localhost:8080/",
          "height": 336
        },
        "outputId": "ea4cdfc8-f363-4c15-b4b1-f736c2a5af35"
      },
      "source": [
        "sns.regplot(x,np.log(y))"
      ],
      "execution_count": null,
      "outputs": [
        {
          "output_type": "stream",
          "text": [
            "/usr/local/lib/python3.6/dist-packages/pandas/core/series.py:679: RuntimeWarning: divide by zero encountered in log\n",
            "  result = getattr(ufunc, method)(*inputs, **kwargs)\n"
          ],
          "name": "stderr"
        },
        {
          "output_type": "execute_result",
          "data": {
            "text/plain": [
              "<matplotlib.axes._subplots.AxesSubplot at 0x7f94b8450898>"
            ]
          },
          "metadata": {
            "tags": []
          },
          "execution_count": 21
        },
        {
          "output_type": "display_data",
          "data": {
            "image/png": "[encoded data removed]",
            "text/plain": [
              "<Figure size 432x288 with 1 Axes>"
            ]
          },
          "metadata": {
            "tags": [],
            "needs_background": "light"
          }
        }
      ]
    },
    {
      "cell_type": "markdown",
      "metadata": {
        "id": "jpizt51Wa3SR",
        "colab_type": "text"
      },
      "source": [
        "Importing hidden markov model library"
      ]
    },
    {
      "cell_type": "code",
      "metadata": {
        "id": "_x1-j2fGVWlT",
        "colab_type": "code",
        "colab": {
          "base_uri": "https://localhost:8080/",
          "height": 196
        },
        "outputId": "1e3be41d-345d-41c3-880b-bf7462a00f0d"
      },
      "source": [
        "!pip install hmmlearn"
      ],
      "execution_count": null,
      "outputs": [
        {
          "output_type": "stream",
          "text": [
            "Collecting hmmlearn\n",
            "\u001b[?25l  Downloading https://files.pythonhosted.org/packages/ff/7b/33f629a443a0671161c019e55c3f1b511c7e9fdce5ab8c8c3c33470eb939/hmmlearn-0.2.3-cp36-cp36m-manylinux1_x86_64.whl (363kB)\n",
            "\r\u001b[K     |█                               | 10kB 18.0MB/s eta 0:00:01\r\u001b[K     |█▉                              | 20kB 1.7MB/s eta 0:00:01\r\u001b[K     |██▊                             | 30kB 2.1MB/s eta 0:00:01\r\u001b[K     |███▋                            | 40kB 1.7MB/s eta 0:00:01\r\u001b[K     |████▌                           | 51kB 2.0MB/s eta 0:00:01\r\u001b[K     |█████▍                          | 61kB 2.2MB/s eta 0:00:01\r\u001b[K     |██████▎                         | 71kB 2.5MB/s eta 0:00:01\r\u001b[K     |███████▏                        | 81kB 2.7MB/s eta 0:00:01\r\u001b[K     |████████                        | 92kB 2.9MB/s eta 0:00:01\r\u001b[K     |█████████                       | 102kB 2.8MB/s eta 0:00:01\r\u001b[K     |██████████                      | 112kB 2.8MB/s eta 0:00:01\r\u001b[K     |██████████▉                     | 122kB 2.8MB/s eta 0:00:01\r\u001b[K     |███████████▊                    | 133kB 2.8MB/s eta 0:00:01\r\u001b[K     |████████████▋                   | 143kB 2.8MB/s eta 0:00:01\r\u001b[K     |█████████████▌                  | 153kB 2.8MB/s eta 0:00:01\r\u001b[K     |██████████████▍                 | 163kB 2.8MB/s eta 0:00:01\r\u001b[K     |███████████████▎                | 174kB 2.8MB/s eta 0:00:01\r\u001b[K     |████████████████▏               | 184kB 2.8MB/s eta 0:00:01\r\u001b[K     |█████████████████               | 194kB 2.8MB/s eta 0:00:01\r\u001b[K     |██████████████████              | 204kB 2.8MB/s eta 0:00:01\r\u001b[K     |███████████████████             | 215kB 2.8MB/s eta 0:00:01\r\u001b[K     |███████████████████▉            | 225kB 2.8MB/s eta 0:00:01\r\u001b[K     |████████████████████▊           | 235kB 2.8MB/s eta 0:00:01\r\u001b[K     |█████████████████████▋          | 245kB 2.8MB/s eta 0:00:01\r\u001b[K     |██████████████████████▌         | 256kB 2.8MB/s eta 0:00:01\r\u001b[K     |███████████████████████▍        | 266kB 2.8MB/s eta 0:00:01\r\u001b[K     |████████████████████████▎       | 276kB 2.8MB/s eta 0:00:01\r\u001b[K     |█████████████████████████▏      | 286kB 2.8MB/s eta 0:00:01\r\u001b[K     |██████████████████████████      | 296kB 2.8MB/s eta 0:00:01\r\u001b[K     |███████████████████████████     | 307kB 2.8MB/s eta 0:00:01\r\u001b[K     |████████████████████████████    | 317kB 2.8MB/s eta 0:00:01\r\u001b[K     |████████████████████████████▉   | 327kB 2.8MB/s eta 0:00:01\r\u001b[K     |█████████████████████████████▊  | 337kB 2.8MB/s eta 0:00:01\r\u001b[K     |██████████████████████████████▋ | 348kB 2.8MB/s eta 0:00:01\r\u001b[K     |███████████████████████████████▌| 358kB 2.8MB/s eta 0:00:01\r\u001b[K     |████████████████████████████████| 368kB 2.8MB/s \n",
            "\u001b[?25hRequirement already satisfied: scipy>=0.15 in /usr/local/lib/python3.6/dist-packages (from hmmlearn) (1.4.1)\n",
            "Requirement already satisfied: scikit-learn>=0.16 in /usr/local/lib/python3.6/dist-packages (from hmmlearn) (0.22.2.post1)\n",
            "Requirement already satisfied: numpy>=1.10 in /usr/local/lib/python3.6/dist-packages (from hmmlearn) (1.18.5)\n",
            "Requirement already satisfied: joblib>=0.11 in /usr/local/lib/python3.6/dist-packages (from scikit-learn>=0.16->hmmlearn) (0.16.0)\n",
            "Installing collected packages: hmmlearn\n",
            "Successfully installed hmmlearn-0.2.3\n"
          ],
          "name": "stdout"
        }
      ]
    },
    {
      "cell_type": "code",
      "metadata": {
        "id": "Ta2Az0PQHgG2",
        "colab_type": "code",
        "colab": {}
      },
      "source": [
        "ir=np.array(cases['max_infection_rate'])\n",
        "dr=np.array(cases['max_death_rate'])\n",
        "features=np.column_stack((ir,dr))"
      ],
      "execution_count": null,
      "outputs": []
    },
    {
      "cell_type": "code",
      "metadata": {
        "id": "xa_fqmcQI2fU",
        "colab_type": "code",
        "colab": {
          "base_uri": "https://localhost:8080/",
          "height": 105
        },
        "outputId": "5c3bcd5c-f2d2-4bdd-d164-17712b670b2e"
      },
      "source": [
        "from hmmlearn.hmm import GaussianHMM\n",
        "score_list=[]\n",
        "hmm=GaussianHMM(n_components=3)\n",
        "hmm.fit(features)\n"
      ],
      "execution_count": null,
      "outputs": [
        {
          "output_type": "execute_result",
          "data": {
            "text/plain": [
              "GaussianHMM(algorithm='viterbi', covariance_type='diag', covars_prior=0.01,\n",
              "            covars_weight=1, init_params='stmc', means_prior=0, means_weight=0,\n",
              "            min_covar=0.001, n_components=3, n_iter=10, params='stmc',\n",
              "            random_state=None, startprob_prior=1.0, tol=0.01,\n",
              "            transmat_prior=1.0, verbose=False)"
            ]
          },
          "metadata": {
            "tags": []
          },
          "execution_count": 24
        }
      ]
    },
    {
      "cell_type": "code",
      "metadata": {
        "id": "Px3VwLxDFIMY",
        "colab_type": "code",
        "colab": {}
      },
      "source": [
        "from sklearn.model_selection import train_test_split\n",
        "train,test = train_test_split(cases, test_size=0.33, shuffle=False)\n",
        "ir_train=np.array(train['max_infection_rate'])\n",
        "dr_train=np.array(train['max_death_rate'])\n",
        "train_features=np.column_stack((ir_train,dr_train))\n",
        "\n",
        "ir_test=np.array(test['max_infection_rate'])\n",
        "dr_test=np.array(test['max_death_rate'])\n",
        "test_features=np.column_stack((ir_test,dr_test))\n"
      ],
      "execution_count": null,
      "outputs": []
    },
    {
      "cell_type": "code",
      "metadata": {
        "id": "WDXWBZSaKObp",
        "colab_type": "code",
        "colab": {
          "base_uri": "https://localhost:8080/",
          "height": 105
        },
        "outputId": "0f6a0445-21f5-48eb-ccde-a1c2df281856"
      },
      "source": [
        "from hmmlearn.hmm import GaussianHMM\n",
        "hm=GaussianHMM(n_components=4)\n",
        "hm.fit(train_features)"
      ],
      "execution_count": null,
      "outputs": [
        {
          "output_type": "execute_result",
          "data": {
            "text/plain": [
              "GaussianHMM(algorithm='viterbi', covariance_type='diag', covars_prior=0.01,\n",
              "            covars_weight=1, init_params='stmc', means_prior=0, means_weight=0,\n",
              "            min_covar=0.001, n_components=4, n_iter=10, params='stmc',\n",
              "            random_state=None, startprob_prior=1.0, tol=0.01,\n",
              "            transmat_prior=1.0, verbose=False)"
            ]
          },
          "metadata": {
            "tags": []
          },
          "execution_count": 26
        }
      ]
    },
    {
      "cell_type": "code",
      "metadata": {
        "id": "tq8m9nzZDIvc",
        "colab_type": "code",
        "colab": {}
      },
      "source": [
        "n_latency_days=5\n",
        "day_index=50\n",
        "previous_data_start_index = max(0, day_index - n_latency_days)\n",
        "previous_data_end_index = max(0, day_index - 1)\n",
        "previous_data = test.iloc[previous_data_start_index:previous_data_end_index]\n",
        "\n",
        "ir_prv=np.array(previous_data['max_infection_rate'])\n",
        "dr_prv=np.array(previous_data['max_death_rate'])\n",
        "prv50_features=np.column_stack((ir_prv,dr_prv))\n"
      ],
      "execution_count": null,
      "outputs": []
    },
    {
      "cell_type": "code",
      "metadata": {
        "id": "RFo4T9xq8TCb",
        "colab_type": "code",
        "colab": {}
      },
      "source": [
        "day_index=100\n",
        "previous_data_start_index = max(0, day_index - n_latency_days)\n",
        "previous_data_end_index = max(0, day_index - 1)\n",
        "previous_data = test.iloc[previous_data_start_index:previous_data_end_index]\n",
        "\n",
        "ir_prv=np.array(previous_data['max_infection_rate'])\n",
        "dr_prv=np.array(previous_data['max_death_rate'])\n",
        "prv100_features=np.column_stack((ir_prv,dr_prv))"
      ],
      "execution_count": null,
      "outputs": []
    },
    {
      "cell_type": "code",
      "metadata": {
        "id": "p3XQNVKm83i1",
        "colab_type": "code",
        "colab": {}
      },
      "source": [
        "day_index=200\n",
        "previous_data_start_index = max(0, day_index - n_latency_days)\n",
        "previous_data_end_index = max(0, day_index - 1)\n",
        "previous_data = test.iloc[previous_data_start_index:previous_data_end_index]\n",
        "\n",
        "ir_prv=np.array(previous_data['max_infection_rate'])\n",
        "dr_prv=np.array(previous_data['max_death_rate'])\n",
        "prv200_features=np.column_stack((ir_prv,dr_prv))"
      ],
      "execution_count": null,
      "outputs": []
    },
    {
      "cell_type": "code",
      "metadata": {
        "id": "LWXWV4Z0KenJ",
        "colab_type": "code",
        "colab": {}
      },
      "source": [
        "outcome_score_50f=hm.score(prv50_features)\n",
        "prediction_50f=hm.predict_proba(prv50_features)\n",
        "\n",
        "outcome_score_100f=hm.score(prv100_features)\n",
        "prediction_100f=hm.predict_proba(prv100_features)\n",
        "\n",
        "outcome_score_200f=hm.score(prv200_features)\n",
        "prediction_200f=hm.predict_proba(prv200_features)"
      ],
      "execution_count": null,
      "outputs": []
    },
    {
      "cell_type": "code",
      "metadata": {
        "id": "mBykAW8RUa2q",
        "colab_type": "code",
        "colab": {
          "base_uri": "https://localhost:8080/",
          "height": 34
        },
        "outputId": "ccc230f8-efb0-47f0-b4f0-20c7767aa5ba"
      },
      "source": [
        "print(outcome_score_50f,outcome_score_100f,outcome_score_200f)"
      ],
      "execution_count": null,
      "outputs": [
        {
          "output_type": "stream",
          "text": [
            "-25.628019187260385 -21.989040922988337 -23.336295593792617\n"
          ],
          "name": "stdout"
        }
      ]
    },
    {
      "cell_type": "code",
      "metadata": {
        "id": "Ns4fTihqBDL2",
        "colab_type": "code",
        "colab": {}
      },
      "source": [
        "data = {'First 50 Days':  [outcome_score_50f],\n",
        "        'First 100 Days': [outcome_score_100f],\n",
        "         'First 200 Days': [outcome_score_200f]\n",
        "        }\n",
        "df_final = pd.DataFrame (data, columns = ['First 50 Days','First 100 Days', 'First 200 Days'])"
      ],
      "execution_count": null,
      "outputs": []
    },
    {
      "cell_type": "code",
      "metadata": {
        "id": "BnxgCCdM_AmI",
        "colab_type": "code",
        "colab": {
          "base_uri": "https://localhost:8080/",
          "height": 77
        },
        "outputId": "5ce915fd-8d52-4a45-990c-ce77b24cff60"
      },
      "source": [
        "df_final"
      ],
      "execution_count": null,
      "outputs": [
        {
          "output_type": "execute_result",
          "data": {
            "text/html": [
              "<div>\n",
              "<style scoped>\n",
              "    .dataframe tbody tr th:only-of-type {\n",
              "        vertical-align: middle;\n",
              "    }\n",
              "\n",
              "    .dataframe tbody tr th {\n",
              "        vertical-align: top;\n",
              "    }\n",
              "\n",
              "    .dataframe thead th {\n",
              "        text-align: right;\n",
              "    }\n",
              "</style>\n",
              "<table border=\"1\" class=\"dataframe\">\n",
              "  <thead>\n",
              "    <tr style=\"text-align: right;\">\n",
              "      <th></th>\n",
              "      <th>First 50 Days</th>\n",
              "      <th>First 100 Days</th>\n",
              "      <th>First 200 Days</th>\n",
              "    </tr>\n",
              "  </thead>\n",
              "  <tbody>\n",
              "    <tr>\n",
              "      <th>0</th>\n",
              "      <td>-25.628019</td>\n",
              "      <td>-21.989041</td>\n",
              "      <td>-23.336296</td>\n",
              "    </tr>\n",
              "  </tbody>\n",
              "</table>\n",
              "</div>"
            ],
            "text/plain": [
              "   First 50 Days  First 100 Days  First 200 Days\n",
              "0     -25.628019      -21.989041      -23.336296"
            ]
          },
          "metadata": {
            "tags": []
          },
          "execution_count": 75
        }
      ]
    }
  ]
}